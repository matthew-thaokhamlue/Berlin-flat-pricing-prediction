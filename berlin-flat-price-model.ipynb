{
 "cells": [
  {
   "cell_type": "markdown",
   "id": "31d7df82",
   "metadata": {},
   "source": [
    "# Fun project creating regressor for Berlin flat price using data from 2019\n",
    "\n",
    "## steps to approach the project\n",
    "\n",
    "1. Preprosess data i.e. PCA finding the make-sense features, \n",
    "2. EDA the cleansed dataset\n",
    "3. Modeling\n",
    "4. Model evaluation\n",
    "5. Deploy model using FastAPI"
   ]
  },
  {
   "cell_type": "code",
   "execution_count": 1,
   "id": "9c0e9743",
   "metadata": {},
   "outputs": [],
   "source": [
    "import pandas as pd\n",
    "import matplotlib.pyplot as plt\n",
    "import numpy as np\n",
    "\n",
    "from sklearn.preprocessing import OneHotEncoder\n",
    "from sklearn.decomposition import PCA"
   ]
  },
  {
   "cell_type": "markdown",
   "id": "e3ce98b9",
   "metadata": {},
   "source": [
    "## step 1: Pre-process data"
   ]
  },
  {
   "cell_type": "code",
   "execution_count": 2,
   "id": "366ed46e",
   "metadata": {},
   "outputs": [
    {
     "name": "stdout",
     "output_type": "stream",
     "text": [
      "<class 'pandas.core.frame.DataFrame'>\n",
      "RangeIndex: 1038 entries, 0 to 1037\n",
      "Data columns (total 27 columns):\n",
      " #   Column                    Non-Null Count  Dtype  \n",
      "---  ------                    --------------  -----  \n",
      " 0   id                        1038 non-null   int64  \n",
      " 1   lat                       1038 non-null   float64\n",
      " 2   lon                       1038 non-null   float64\n",
      " 3   cold_price                1038 non-null   float64\n",
      " 4   currency                  1038 non-null   object \n",
      " 5   short_listed              1038 non-null   bool   \n",
      " 6   postcode_id               1038 non-null   int64  \n",
      " 7   balcony                   1038 non-null   bool   \n",
      " 8   builtin_kitchen           1038 non-null   bool   \n",
      " 9   created_date              1001 non-null   object \n",
      " 10  energy_certificate        1038 non-null   bool   \n",
      " 11  has_new_flag              1038 non-null   bool   \n",
      " 12  living_space              1018 non-null   float64\n",
      " 13  new_home_builder          1038 non-null   bool   \n",
      " 14  number_rooms              1018 non-null   float64\n",
      " 15  private_offer             1038 non-null   bool   \n",
      " 16  modified_date             1018 non-null   object \n",
      " 17  published_date            1001 non-null   object \n",
      " 18  warm_price                1018 non-null   float64\n",
      " 19  address                   1018 non-null   object \n",
      " 20  link                      1018 non-null   object \n",
      " 21  quarter                   1018 non-null   object \n",
      " 22  garden                    1038 non-null   bool   \n",
      " 23  listing_type              1018 non-null   object \n",
      " 24  localhost_date            1038 non-null   object \n",
      " 25  no_longer_available       1038 non-null   bool   \n",
      " 26  no_longer_available_date  932 non-null    object \n",
      "dtypes: bool(9), float64(6), int64(2), object(10)\n",
      "memory usage: 155.2+ KB\n"
     ]
    }
   ],
   "source": [
    "df_org = pd.read_csv('berlin-houses.csv')\n",
    "df_org.info()"
   ]
  },
  {
   "cell_type": "markdown",
   "id": "b4af9f69",
   "metadata": {},
   "source": [
    "## Dataset\n",
    "\n",
    "The dataset used for the analysis can be found in the file `berlin-houses.csv`\n",
    "\n",
    "The variables of this dataset are:\n",
    "\n",
    "- `id` - id of listing\n",
    "- `lat` - latitude of the listing\n",
    "- `lon` - longitude of the listing\n",
    "- `cold_price` - price of the listing before heating and upkeep costs\n",
    "- `warm_price` - price of the listing after heating and upkeep costs\n",
    "- `currency` - currency of the listing prices\n",
    "- `short_listed` - if a given listing has short listed candidates\n",
    "- `postcode_id` - post code of the listing\n",
    "- `balcony` - if a listing has a balcony\n",
    "- `builtin_kitchen` - if a listing has a built-in kitchen\n",
    "- `created_date` - date the listing was created\n",
    "- `modified_date` - date the listing was modified\n",
    "- `published_date` - date the listing was published\n",
    "- `energy_certificate` - if a listing has an energy certificate\n",
    "- `has_new_flag` - if a listing is a new build or has been renovated recently.\n",
    "- `living_space` - the living area in squared meters (m2)\n",
    "- `new_home_builder` - if a listing has been built by new building company\n",
    "- `number_rooms` - total number of rooms in listing\n",
    "- `private_offer` - if a listing is pusblished by private owner\n",
    "- `address` - address of the listing\n",
    "- `link` - link to listing page\n",
    "- `quarter` - district where listing is located\n",
    "- `garden` - if a listing has a garden\n",
    "- `listing_type` - listing size category\n",
    "- `localhost_date` - date when listing data was saved into database\n",
    "- `no_longer_available` - if listing is no longer available in website\n",
    "- `no_longer_available_date` - date when listing was no longer available on the website"
   ]
  },
  {
   "cell_type": "code",
   "execution_count": 3,
   "id": "555df2e0",
   "metadata": {},
   "outputs": [],
   "source": [
    "all_feats = df_org.columns.values\n",
    "useful_feats = df_org.drop(columns=['id','currency','cold_price','currency','short_listed',\n",
    "                                'created_date','published_date',\n",
    "                                'modified_date','address','link',\n",
    "                                'listing_type','localhost_date','no_longer_available',\n",
    "                                'no_longer_available_date','quarter']).columns.values\n",
    "num_feats = ['lat', 'lon','number_rooms','living_space','warm_price']\n",
    "cat_feats = df_org[useful_feats].drop(num_feats,axis=1).columns.values"
   ]
  },
  {
   "cell_type": "code",
   "execution_count": 4,
   "id": "7a852787",
   "metadata": {},
   "outputs": [],
   "source": [
    "x = ['id','currency','cold_price','currency','short_listed',\n",
    "                                'created_date','published_date',\n",
    "                                'modified_date','address','link',\n",
    "                                'listing_type','localhost_date','no_longer_available',\n",
    "                                'no_longer_available_date','quarter']"
   ]
  },
  {
   "cell_type": "markdown",
   "id": "d55fa151",
   "metadata": {},
   "source": [
    "### Reason for dropping below columns\n",
    "- `cold_price` col is dropped as it is redundent to `warm_price`\n",
    "- `quarter` col is dropped as `lat`, `long`, and `PLZ` are chosen as location information group\n",
    "- `address` col is dropped as it is redundent to location information group\n",
    "\n",
    "**Below features are dropped as they are rather metadata of the flat and don't add any value to the model trainning**\n",
    "- `id` \n",
    "- `currency` \n",
    "- `currency` \n",
    "- `short_listed` \n",
    "- `created_date` \n",
    "- `published_date` \n",
    "- `modified_date` \n",
    "- `link` \n",
    "- `listing_type` \n",
    "- `localhost_date` \n",
    "- `no_longer_available` \n",
    "- `no_longer_available_date` "
   ]
  },
  {
   "cell_type": "code",
   "execution_count": 5,
   "id": "38cdd742",
   "metadata": {},
   "outputs": [
    {
     "name": "stdout",
     "output_type": "stream",
     "text": [
      "<class 'pandas.core.frame.DataFrame'>\n",
      "Int64Index: 1018 entries, 1 to 1037\n",
      "Data columns (total 13 columns):\n",
      " #   Column              Non-Null Count  Dtype   \n",
      "---  ------              --------------  -----   \n",
      " 0   lat                 1018 non-null   float64 \n",
      " 1   lon                 1018 non-null   float64 \n",
      " 2   postcode_id         1018 non-null   category\n",
      " 3   balcony             1018 non-null   bool    \n",
      " 4   builtin_kitchen     1018 non-null   bool    \n",
      " 5   energy_certificate  1018 non-null   bool    \n",
      " 6   has_new_flag        1018 non-null   bool    \n",
      " 7   living_space        1018 non-null   float64 \n",
      " 8   new_home_builder    1018 non-null   bool    \n",
      " 9   number_rooms        1018 non-null   float64 \n",
      " 10  private_offer       1018 non-null   bool    \n",
      " 11  warm_price          1018 non-null   float64 \n",
      " 12  garden              1018 non-null   bool    \n",
      "dtypes: bool(7), category(1), float64(5)\n",
      "memory usage: 57.1 KB\n"
     ]
    }
   ],
   "source": [
    "df = df_org[useful_feats].dropna()\n",
    "df['postcode_id'] = df['postcode_id'].astype('category')\n",
    "df.info()"
   ]
  },
  {
   "cell_type": "code",
   "execution_count": 6,
   "id": "532989ac",
   "metadata": {},
   "outputs": [
    {
     "data": {
      "text/html": [
       "<div>\n",
       "<style scoped>\n",
       "    .dataframe tbody tr th:only-of-type {\n",
       "        vertical-align: middle;\n",
       "    }\n",
       "\n",
       "    .dataframe tbody tr th {\n",
       "        vertical-align: top;\n",
       "    }\n",
       "\n",
       "    .dataframe thead th {\n",
       "        text-align: right;\n",
       "    }\n",
       "</style>\n",
       "<table border=\"1\" class=\"dataframe\">\n",
       "  <thead>\n",
       "    <tr style=\"text-align: right;\">\n",
       "      <th></th>\n",
       "      <th>lat</th>\n",
       "      <th>lon</th>\n",
       "      <th>postcode_id</th>\n",
       "      <th>balcony</th>\n",
       "      <th>builtin_kitchen</th>\n",
       "      <th>energy_certificate</th>\n",
       "      <th>has_new_flag</th>\n",
       "      <th>living_space</th>\n",
       "      <th>new_home_builder</th>\n",
       "      <th>number_rooms</th>\n",
       "      <th>private_offer</th>\n",
       "      <th>warm_price</th>\n",
       "      <th>garden</th>\n",
       "    </tr>\n",
       "  </thead>\n",
       "  <tbody>\n",
       "    <tr>\n",
       "      <th>158</th>\n",
       "      <td>52.52286</td>\n",
       "      <td>13.44600</td>\n",
       "      <td>10249</td>\n",
       "      <td>True</td>\n",
       "      <td>True</td>\n",
       "      <td>False</td>\n",
       "      <td>True</td>\n",
       "      <td>84.00</td>\n",
       "      <td>False</td>\n",
       "      <td>3.0</td>\n",
       "      <td>False</td>\n",
       "      <td>1077.00</td>\n",
       "      <td>False</td>\n",
       "    </tr>\n",
       "    <tr>\n",
       "      <th>732</th>\n",
       "      <td>52.54153</td>\n",
       "      <td>13.39305</td>\n",
       "      <td>13355</td>\n",
       "      <td>False</td>\n",
       "      <td>False</td>\n",
       "      <td>True</td>\n",
       "      <td>True</td>\n",
       "      <td>95.74</td>\n",
       "      <td>False</td>\n",
       "      <td>3.0</td>\n",
       "      <td>False</td>\n",
       "      <td>1102.16</td>\n",
       "      <td>False</td>\n",
       "    </tr>\n",
       "    <tr>\n",
       "      <th>1012</th>\n",
       "      <td>52.48654</td>\n",
       "      <td>13.45150</td>\n",
       "      <td>12435</td>\n",
       "      <td>True</td>\n",
       "      <td>False</td>\n",
       "      <td>True</td>\n",
       "      <td>True</td>\n",
       "      <td>84.01</td>\n",
       "      <td>False</td>\n",
       "      <td>3.0</td>\n",
       "      <td>False</td>\n",
       "      <td>1117.31</td>\n",
       "      <td>False</td>\n",
       "    </tr>\n",
       "  </tbody>\n",
       "</table>\n",
       "</div>"
      ],
      "text/plain": [
       "           lat       lon postcode_id  balcony  builtin_kitchen  \\\n",
       "158   52.52286  13.44600       10249     True             True   \n",
       "732   52.54153  13.39305       13355    False            False   \n",
       "1012  52.48654  13.45150       12435     True            False   \n",
       "\n",
       "      energy_certificate  has_new_flag  living_space  new_home_builder  \\\n",
       "158                False          True         84.00             False   \n",
       "732                 True          True         95.74             False   \n",
       "1012                True          True         84.01             False   \n",
       "\n",
       "      number_rooms  private_offer  warm_price  garden  \n",
       "158            3.0          False     1077.00   False  \n",
       "732            3.0          False     1102.16   False  \n",
       "1012           3.0          False     1117.31   False  "
      ]
     },
     "execution_count": 6,
     "metadata": {},
     "output_type": "execute_result"
    }
   ],
   "source": [
    "df.sample(3)"
   ]
  },
  {
   "cell_type": "code",
   "execution_count": 7,
   "id": "5c59c83b",
   "metadata": {},
   "outputs": [
    {
     "data": {
      "text/html": [
       "<div>\n",
       "<style scoped>\n",
       "    .dataframe tbody tr th:only-of-type {\n",
       "        vertical-align: middle;\n",
       "    }\n",
       "\n",
       "    .dataframe tbody tr th {\n",
       "        vertical-align: top;\n",
       "    }\n",
       "\n",
       "    .dataframe thead th {\n",
       "        text-align: right;\n",
       "    }\n",
       "</style>\n",
       "<table border=\"1\" class=\"dataframe\">\n",
       "  <thead>\n",
       "    <tr style=\"text-align: right;\">\n",
       "      <th></th>\n",
       "      <th>lat</th>\n",
       "      <th>lon</th>\n",
       "      <th>number_rooms</th>\n",
       "      <th>living_space</th>\n",
       "      <th>warm_price</th>\n",
       "    </tr>\n",
       "  </thead>\n",
       "  <tbody>\n",
       "    <tr>\n",
       "      <th>1</th>\n",
       "      <td>52.46982</td>\n",
       "      <td>13.43096</td>\n",
       "      <td>2.0</td>\n",
       "      <td>59.00</td>\n",
       "      <td>630.98</td>\n",
       "    </tr>\n",
       "    <tr>\n",
       "      <th>2</th>\n",
       "      <td>52.54727</td>\n",
       "      <td>13.39899</td>\n",
       "      <td>2.0</td>\n",
       "      <td>51.98</td>\n",
       "      <td>952.47</td>\n",
       "    </tr>\n",
       "  </tbody>\n",
       "</table>\n",
       "</div>"
      ],
      "text/plain": [
       "        lat       lon  number_rooms  living_space  warm_price\n",
       "1  52.46982  13.43096           2.0         59.00      630.98\n",
       "2  52.54727  13.39899           2.0         51.98      952.47"
      ]
     },
     "execution_count": 7,
     "metadata": {},
     "output_type": "execute_result"
    }
   ],
   "source": [
    "df[num_feats].head(2)"
   ]
  },
  {
   "cell_type": "code",
   "execution_count": 8,
   "id": "eb84d96d",
   "metadata": {},
   "outputs": [
    {
     "data": {
      "text/html": [
       "<div>\n",
       "<style scoped>\n",
       "    .dataframe tbody tr th:only-of-type {\n",
       "        vertical-align: middle;\n",
       "    }\n",
       "\n",
       "    .dataframe tbody tr th {\n",
       "        vertical-align: top;\n",
       "    }\n",
       "\n",
       "    .dataframe thead th {\n",
       "        text-align: right;\n",
       "    }\n",
       "</style>\n",
       "<table border=\"1\" class=\"dataframe\">\n",
       "  <thead>\n",
       "    <tr style=\"text-align: right;\">\n",
       "      <th></th>\n",
       "      <th>postcode_id</th>\n",
       "      <th>balcony</th>\n",
       "      <th>builtin_kitchen</th>\n",
       "      <th>energy_certificate</th>\n",
       "      <th>has_new_flag</th>\n",
       "      <th>new_home_builder</th>\n",
       "      <th>private_offer</th>\n",
       "      <th>garden</th>\n",
       "    </tr>\n",
       "  </thead>\n",
       "  <tbody>\n",
       "    <tr>\n",
       "      <th>1</th>\n",
       "      <td>12051</td>\n",
       "      <td>True</td>\n",
       "      <td>False</td>\n",
       "      <td>False</td>\n",
       "      <td>False</td>\n",
       "      <td>False</td>\n",
       "      <td>False</td>\n",
       "      <td>False</td>\n",
       "    </tr>\n",
       "    <tr>\n",
       "      <th>2</th>\n",
       "      <td>13355</td>\n",
       "      <td>True</td>\n",
       "      <td>True</td>\n",
       "      <td>True</td>\n",
       "      <td>False</td>\n",
       "      <td>False</td>\n",
       "      <td>False</td>\n",
       "      <td>False</td>\n",
       "    </tr>\n",
       "  </tbody>\n",
       "</table>\n",
       "</div>"
      ],
      "text/plain": [
       "  postcode_id  balcony  builtin_kitchen  energy_certificate  has_new_flag  \\\n",
       "1       12051     True            False               False         False   \n",
       "2       13355     True             True                True         False   \n",
       "\n",
       "   new_home_builder  private_offer  garden  \n",
       "1             False          False   False  \n",
       "2             False          False   False  "
      ]
     },
     "execution_count": 8,
     "metadata": {},
     "output_type": "execute_result"
    }
   ],
   "source": [
    "df[cat_feats].head(2)"
   ]
  },
  {
   "cell_type": "code",
   "execution_count": 9,
   "id": "2c011751",
   "metadata": {},
   "outputs": [],
   "source": [
    "df_analysis = df[useful_feats]"
   ]
  },
  {
   "cell_type": "code",
   "execution_count": 10,
   "id": "f30d9cd1",
   "metadata": {},
   "outputs": [
    {
     "data": {
      "text/html": [
       "<div>\n",
       "<style scoped>\n",
       "    .dataframe tbody tr th:only-of-type {\n",
       "        vertical-align: middle;\n",
       "    }\n",
       "\n",
       "    .dataframe tbody tr th {\n",
       "        vertical-align: top;\n",
       "    }\n",
       "\n",
       "    .dataframe thead th {\n",
       "        text-align: right;\n",
       "    }\n",
       "</style>\n",
       "<table border=\"1\" class=\"dataframe\">\n",
       "  <thead>\n",
       "    <tr style=\"text-align: right;\">\n",
       "      <th></th>\n",
       "      <th>lat</th>\n",
       "      <th>lon</th>\n",
       "      <th>postcode_id</th>\n",
       "      <th>balcony</th>\n",
       "      <th>builtin_kitchen</th>\n",
       "      <th>energy_certificate</th>\n",
       "      <th>has_new_flag</th>\n",
       "      <th>living_space</th>\n",
       "      <th>new_home_builder</th>\n",
       "      <th>number_rooms</th>\n",
       "      <th>private_offer</th>\n",
       "      <th>warm_price</th>\n",
       "      <th>garden</th>\n",
       "    </tr>\n",
       "  </thead>\n",
       "  <tbody>\n",
       "    <tr>\n",
       "      <th>751</th>\n",
       "      <td>52.53069</td>\n",
       "      <td>13.39084</td>\n",
       "      <td>10115</td>\n",
       "      <td>True</td>\n",
       "      <td>True</td>\n",
       "      <td>False</td>\n",
       "      <td>True</td>\n",
       "      <td>59.00</td>\n",
       "      <td>False</td>\n",
       "      <td>2.0</td>\n",
       "      <td>True</td>\n",
       "      <td>1250.00</td>\n",
       "      <td>True</td>\n",
       "    </tr>\n",
       "    <tr>\n",
       "      <th>115</th>\n",
       "      <td>52.51428</td>\n",
       "      <td>13.43031</td>\n",
       "      <td>10243</td>\n",
       "      <td>False</td>\n",
       "      <td>False</td>\n",
       "      <td>True</td>\n",
       "      <td>True</td>\n",
       "      <td>59.22</td>\n",
       "      <td>False</td>\n",
       "      <td>2.0</td>\n",
       "      <td>False</td>\n",
       "      <td>571.41</td>\n",
       "      <td>False</td>\n",
       "    </tr>\n",
       "    <tr>\n",
       "      <th>847</th>\n",
       "      <td>52.54722</td>\n",
       "      <td>13.39486</td>\n",
       "      <td>13355</td>\n",
       "      <td>True</td>\n",
       "      <td>False</td>\n",
       "      <td>True</td>\n",
       "      <td>True</td>\n",
       "      <td>53.42</td>\n",
       "      <td>False</td>\n",
       "      <td>2.0</td>\n",
       "      <td>False</td>\n",
       "      <td>543.81</td>\n",
       "      <td>False</td>\n",
       "    </tr>\n",
       "  </tbody>\n",
       "</table>\n",
       "</div>"
      ],
      "text/plain": [
       "          lat       lon postcode_id  balcony  builtin_kitchen  \\\n",
       "751  52.53069  13.39084       10115     True             True   \n",
       "115  52.51428  13.43031       10243    False            False   \n",
       "847  52.54722  13.39486       13355     True            False   \n",
       "\n",
       "     energy_certificate  has_new_flag  living_space  new_home_builder  \\\n",
       "751               False          True         59.00             False   \n",
       "115                True          True         59.22             False   \n",
       "847                True          True         53.42             False   \n",
       "\n",
       "     number_rooms  private_offer  warm_price  garden  \n",
       "751           2.0           True     1250.00    True  \n",
       "115           2.0          False      571.41   False  \n",
       "847           2.0          False      543.81   False  "
      ]
     },
     "execution_count": 10,
     "metadata": {},
     "output_type": "execute_result"
    }
   ],
   "source": [
    "df_analysis.sample(3)"
   ]
  },
  {
   "cell_type": "code",
   "execution_count": 11,
   "id": "169c6160",
   "metadata": {},
   "outputs": [],
   "source": [
    "X = df_analysis.drop(columns=['warm_price'])\n",
    "y = df_analysis['warm_price']\n",
    "SEED = 42\n",
    "\n",
    "# Create a PCA model with 10 components\n",
    "pca = PCA(n_components=10)\n",
    "\n",
    "# Fit the model to the data and transform the data\n",
    "X_transformed = pca.fit_transform(X)\n",
    "\n",
    "# Get the explained variance ratio of each component\n",
    "explained_variance = pca.explained_variance_ratio_"
   ]
  },
  {
   "cell_type": "code",
   "execution_count": 12,
   "id": "c399e511",
   "metadata": {},
   "outputs": [
    {
     "data": {
      "image/png": "[encoded data removed]",
      "text/plain": [
       "<Figure size 640x480 with 1 Axes>"
      ]
     },
     "metadata": {},
     "output_type": "display_data"
    }
   ],
   "source": [
    "# create a bar chart\n",
    "plt.bar(range(len(explained_variance)), explained_variance)\n",
    "plt.xlabel('Principal Component')\n",
    "plt.ylabel('Explained Variance Ratio')\n",
    "\n",
    "# show the plot\n",
    "plt.show()"
   ]
  },
  {
   "cell_type": "markdown",
   "id": "6365901c",
   "metadata": {},
   "source": [
    "Clearly PCA doesn't help. I will then use RandomForest to determine feature importances"
   ]
  },
  {
   "cell_type": "code",
   "execution_count": 13,
   "id": "cb9402d8",
   "metadata": {},
   "outputs": [],
   "source": [
    "from sklearn.ensemble import RandomForestRegressor"
   ]
  },
  {
   "cell_type": "code",
   "execution_count": 14,
   "id": "d26d9044",
   "metadata": {},
   "outputs": [
    {
     "data": {
      "text/plain": [
       "Text(0.5, 1.0, 'Feature Importance in RF Regression Model')"
      ]
     },
     "execution_count": 14,
     "metadata": {},
     "output_type": "execute_result"
    },
    {
     "data": {
      "image/png": "[encoded data removed]",
      "text/plain": [
       "<Figure size 640x480 with 1 Axes>"
      ]
     },
     "metadata": {},
     "output_type": "display_data"
    }
   ],
   "source": [
    "rfr = RandomForestRegressor(max_depth=16, \n",
    "                           n_estimators=700, \n",
    "                           max_features='log2', \n",
    "                           random_state=SEED) \n",
    "\n",
    "rfr.fit(X,y)\n",
    "\n",
    "importance = rfr.feature_importances_\n",
    "\n",
    "f_importance = {}\n",
    "for i in range(len(df_analysis.drop(columns=['warm_price']).columns)):\n",
    "     f_importance[df_analysis.drop(columns=['warm_price']).columns[i]] = importance[i]\n",
    "        \n",
    "plt.bar(f_importance.keys(),f_importance.values())\n",
    "plt.xticks(rotation='vertical')\n",
    "plt.title('Feature Importance in RF Regression Model')"
   ]
  },
  {
   "cell_type": "markdown",
   "id": "4e1a2262",
   "metadata": {},
   "source": [
    "From RandomForestRegressor feature importance, living space takes highest importance, and followed by location information group, and then if the flat has EBK or not."
   ]
  },
  {
   "cell_type": "markdown",
   "id": "f63c82ef",
   "metadata": {},
   "source": [
    "## step 2: EDA"
   ]
  },
  {
   "cell_type": "code",
   "execution_count": 15,
   "id": "103edcbe",
   "metadata": {},
   "outputs": [],
   "source": [
    "import seaborn as sns"
   ]
  },
  {
   "cell_type": "code",
   "execution_count": 16,
   "id": "ab40d592",
   "metadata": {},
   "outputs": [
    {
     "data": {
      "text/html": [
       "<div>\n",
       "<style scoped>\n",
       "    .dataframe tbody tr th:only-of-type {\n",
       "        vertical-align: middle;\n",
       "    }\n",
       "\n",
       "    .dataframe tbody tr th {\n",
       "        vertical-align: top;\n",
       "    }\n",
       "\n",
       "    .dataframe thead th {\n",
       "        text-align: right;\n",
       "    }\n",
       "</style>\n",
       "<table border=\"1\" class=\"dataframe\">\n",
       "  <thead>\n",
       "    <tr style=\"text-align: right;\">\n",
       "      <th></th>\n",
       "      <th>lat</th>\n",
       "      <th>lon</th>\n",
       "      <th>number_rooms</th>\n",
       "      <th>living_space</th>\n",
       "      <th>warm_price</th>\n",
       "    </tr>\n",
       "  </thead>\n",
       "  <tbody>\n",
       "    <tr>\n",
       "      <th>1</th>\n",
       "      <td>52.46982</td>\n",
       "      <td>13.43096</td>\n",
       "      <td>2.0</td>\n",
       "      <td>59.00</td>\n",
       "      <td>630.98</td>\n",
       "    </tr>\n",
       "    <tr>\n",
       "      <th>2</th>\n",
       "      <td>52.54727</td>\n",
       "      <td>13.39899</td>\n",
       "      <td>2.0</td>\n",
       "      <td>51.98</td>\n",
       "      <td>952.47</td>\n",
       "    </tr>\n",
       "    <tr>\n",
       "      <th>3</th>\n",
       "      <td>52.51210</td>\n",
       "      <td>13.46197</td>\n",
       "      <td>2.0</td>\n",
       "      <td>80.00</td>\n",
       "      <td>1139.00</td>\n",
       "    </tr>\n",
       "    <tr>\n",
       "      <th>4</th>\n",
       "      <td>52.50508</td>\n",
       "      <td>13.38592</td>\n",
       "      <td>2.0</td>\n",
       "      <td>64.63</td>\n",
       "      <td>735.51</td>\n",
       "    </tr>\n",
       "    <tr>\n",
       "      <th>5</th>\n",
       "      <td>52.50646</td>\n",
       "      <td>13.47007</td>\n",
       "      <td>4.0</td>\n",
       "      <td>137.84</td>\n",
       "      <td>1364.62</td>\n",
       "    </tr>\n",
       "    <tr>\n",
       "      <th>...</th>\n",
       "      <td>...</td>\n",
       "      <td>...</td>\n",
       "      <td>...</td>\n",
       "      <td>...</td>\n",
       "      <td>...</td>\n",
       "    </tr>\n",
       "    <tr>\n",
       "      <th>1033</th>\n",
       "      <td>52.50098</td>\n",
       "      <td>13.39864</td>\n",
       "      <td>2.0</td>\n",
       "      <td>59.46</td>\n",
       "      <td>959.92</td>\n",
       "    </tr>\n",
       "    <tr>\n",
       "      <th>1034</th>\n",
       "      <td>52.48270</td>\n",
       "      <td>13.43129</td>\n",
       "      <td>2.0</td>\n",
       "      <td>52.39</td>\n",
       "      <td>904.00</td>\n",
       "    </tr>\n",
       "    <tr>\n",
       "      <th>1035</th>\n",
       "      <td>52.48915</td>\n",
       "      <td>13.42391</td>\n",
       "      <td>2.0</td>\n",
       "      <td>70.00</td>\n",
       "      <td>1225.00</td>\n",
       "    </tr>\n",
       "    <tr>\n",
       "      <th>1036</th>\n",
       "      <td>52.47846</td>\n",
       "      <td>13.44806</td>\n",
       "      <td>2.0</td>\n",
       "      <td>57.20</td>\n",
       "      <td>1043.00</td>\n",
       "    </tr>\n",
       "    <tr>\n",
       "      <th>1037</th>\n",
       "      <td>52.50103</td>\n",
       "      <td>13.36077</td>\n",
       "      <td>2.0</td>\n",
       "      <td>67.09</td>\n",
       "      <td>747.67</td>\n",
       "    </tr>\n",
       "  </tbody>\n",
       "</table>\n",
       "<p>1018 rows × 5 columns</p>\n",
       "</div>"
      ],
      "text/plain": [
       "           lat       lon  number_rooms  living_space  warm_price\n",
       "1     52.46982  13.43096           2.0         59.00      630.98\n",
       "2     52.54727  13.39899           2.0         51.98      952.47\n",
       "3     52.51210  13.46197           2.0         80.00     1139.00\n",
       "4     52.50508  13.38592           2.0         64.63      735.51\n",
       "5     52.50646  13.47007           4.0        137.84     1364.62\n",
       "...        ...       ...           ...           ...         ...\n",
       "1033  52.50098  13.39864           2.0         59.46      959.92\n",
       "1034  52.48270  13.43129           2.0         52.39      904.00\n",
       "1035  52.48915  13.42391           2.0         70.00     1225.00\n",
       "1036  52.47846  13.44806           2.0         57.20     1043.00\n",
       "1037  52.50103  13.36077           2.0         67.09      747.67\n",
       "\n",
       "[1018 rows x 5 columns]"
      ]
     },
     "execution_count": 16,
     "metadata": {},
     "output_type": "execute_result"
    }
   ],
   "source": [
    "df[num_feats]"
   ]
  },
  {
   "cell_type": "code",
   "execution_count": 17,
   "id": "f7bcc2e7",
   "metadata": {},
   "outputs": [
    {
     "data": {
      "text/plain": [
       "<AxesSubplot: >"
      ]
     },
     "execution_count": 17,
     "metadata": {},
     "output_type": "execute_result"
    },
    {
     "data": {
      "image/png": "[encoded data removed]",
      "text/plain": [
       "<Figure size 640x480 with 2 Axes>"
      ]
     },
     "metadata": {},
     "output_type": "display_data"
    }
   ],
   "source": [
    "sns.heatmap(df[num_feats].corr(),annot=True)"
   ]
  },
  {
   "cell_type": "markdown",
   "id": "8bd8f427",
   "metadata": {},
   "source": [
    "From numerical features perspective, belows are spotted:\n",
    "- number of rooms correlates with living space positively\n",
    "- The flat price has mild correlations with all numerical features"
   ]
  },
  {
   "cell_type": "code",
   "execution_count": 18,
   "id": "aeeb8376",
   "metadata": {},
   "outputs": [
    {
     "data": {
      "text/plain": [
       "(array([ 0,  1,  2,  3,  4,  5,  6,  7,  8,  9, 10, 11, 12, 13, 14, 15, 16,\n",
       "        17, 18, 19, 20, 21, 22, 23, 24, 25, 26, 27, 28, 29, 30, 31, 32, 33,\n",
       "        34, 35, 36, 37, 38, 39, 40, 41, 42, 43, 44, 45, 46, 47]),\n",
       " [Text(0, 0, '10099'),\n",
       "  Text(1, 0, '10115'),\n",
       "  Text(2, 0, '10117'),\n",
       "  Text(3, 0, '10119'),\n",
       "  Text(4, 0, '10178'),\n",
       "  Text(5, 0, '10179'),\n",
       "  Text(6, 0, '10235'),\n",
       "  Text(7, 0, '10243'),\n",
       "  Text(8, 0, '10245'),\n",
       "  Text(9, 0, '10247'),\n",
       "  Text(10, 0, '10248'),\n",
       "  Text(11, 0, '10249'),\n",
       "  Text(12, 0, '10317'),\n",
       "  Text(13, 0, '10365'),\n",
       "  Text(14, 0, '10367'),\n",
       "  Text(15, 0, '10405'),\n",
       "  Text(16, 0, '10407'),\n",
       "  Text(17, 0, '10435'),\n",
       "  Text(18, 0, '10437'),\n",
       "  Text(19, 0, '10439'),\n",
       "  Text(20, 0, '10707'),\n",
       "  Text(21, 0, '10777'),\n",
       "  Text(22, 0, '10779'),\n",
       "  Text(23, 0, '10781'),\n",
       "  Text(24, 0, '10783'),\n",
       "  Text(25, 0, '10785'),\n",
       "  Text(26, 0, '10787'),\n",
       "  Text(27, 0, '10823'),\n",
       "  Text(28, 0, '10825'),\n",
       "  Text(29, 0, '10827'),\n",
       "  Text(30, 0, '10961'),\n",
       "  Text(31, 0, '10963'),\n",
       "  Text(32, 0, '10965'),\n",
       "  Text(33, 0, '10967'),\n",
       "  Text(34, 0, '10969'),\n",
       "  Text(35, 0, '10997'),\n",
       "  Text(36, 0, '10999'),\n",
       "  Text(37, 0, '12043'),\n",
       "  Text(38, 0, '12045'),\n",
       "  Text(39, 0, '12047'),\n",
       "  Text(40, 0, '12049'),\n",
       "  Text(41, 0, '12051'),\n",
       "  Text(42, 0, '12053'),\n",
       "  Text(43, 0, '12055'),\n",
       "  Text(44, 0, '12059'),\n",
       "  Text(45, 0, '12435'),\n",
       "  Text(46, 0, '13355'),\n",
       "  Text(47, 0, '13357')])"
      ]
     },
     "execution_count": 18,
     "metadata": {},
     "output_type": "execute_result"
    },
    {
     "data": {
      "image/png": "[encoded data removed]",
      "text/plain": [
       "<Figure size 640x480 with 1 Axes>"
      ]
     },
     "metadata": {},
     "output_type": "display_data"
    }
   ],
   "source": [
    "sns.countplot(data=df_analysis,x='postcode_id').set(title='The Distribution of flat per PLZ')\n",
    "plt.xticks(rotation=90)"
   ]
  },
  {
   "cell_type": "code",
   "execution_count": 19,
   "id": "b8f8aaa8",
   "metadata": {},
   "outputs": [
    {
     "data": {
      "text/plain": [
       "Index(['balcony', 'builtin_kitchen', 'energy_certificate', 'has_new_flag',\n",
       "       'new_home_builder', 'private_offer', 'garden'],\n",
       "      dtype='object')"
      ]
     },
     "execution_count": 19,
     "metadata": {},
     "output_type": "execute_result"
    }
   ],
   "source": [
    "df[cat_feats].columns[1:]"
   ]
  },
  {
   "cell_type": "code",
   "execution_count": 20,
   "id": "f4d19794",
   "metadata": {},
   "outputs": [
    {
     "data": {
      "image/png": "[encoded data removed]",
      "text/plain": [
       "<Figure size 2000x300 with 7 Axes>"
      ]
     },
     "metadata": {},
     "output_type": "display_data"
    }
   ],
   "source": [
    "fig, axes = plt.subplots(1,7,figsize=(20,3))\n",
    "# sns.countplot(data=df_analysis,x='balcony', ax=axes[0])\n",
    "# sns.countplot(data=df_analysis,x='builtin_kitchen', ax=axes[1])\n",
    "# sns.countplot(data=df_analysis,x='energy_certificate', ax=axes[2])\n",
    "\n",
    "for i, col in enumerate(df[cat_feats].columns[1:]):\n",
    "    sns.countplot(data=df_analysis,x=col,ax=axes[i])"
   ]
  },
  {
   "cell_type": "markdown",
   "id": "c4d23abc",
   "metadata": {},
   "source": [
    "We can even drop `new_home_builder` feature since all values are identical."
   ]
  },
  {
   "cell_type": "code",
   "execution_count": 21,
   "id": "44b8c551",
   "metadata": {},
   "outputs": [
    {
     "data": {
      "text/plain": [
       "array(['lat', 'lon', 'postcode_id', 'balcony', 'builtin_kitchen',\n",
       "       'energy_certificate', 'has_new_flag', 'living_space',\n",
       "       'number_rooms', 'private_offer', 'garden'], dtype=object)"
      ]
     },
     "execution_count": 21,
     "metadata": {},
     "output_type": "execute_result"
    }
   ],
   "source": [
    "final_features = df_analysis.drop(columns=['new_home_builder','warm_price']).columns.values\n",
    "final_features"
   ]
  },
  {
   "cell_type": "markdown",
   "id": "9f1b922e",
   "metadata": {},
   "source": [
    "## step 3: Modeling"
   ]
  },
  {
   "cell_type": "code",
   "execution_count": 22,
   "id": "0f586cb9",
   "metadata": {},
   "outputs": [],
   "source": [
    "from sklearn.model_selection import train_test_split\n",
    "from sklearn.metrics import r2_score, mean_squared_error"
   ]
  },
  {
   "cell_type": "code",
   "execution_count": 23,
   "id": "c03cac15",
   "metadata": {},
   "outputs": [],
   "source": [
    "X = df[final_features]\n",
    "y = df['warm_price']\n",
    "\n",
    "X_train, X_test, y_train, y_test = train_test_split(X, y, test_size=0.2, random_state=SEED)"
   ]
  },
  {
   "cell_type": "code",
   "execution_count": 24,
   "id": "c711ba67",
   "metadata": {},
   "outputs": [],
   "source": [
    "rfr.fit(X_train,y_train)\n",
    "y_pred = rfr.predict(X_test)"
   ]
  },
  {
   "cell_type": "markdown",
   "id": "0e2de846",
   "metadata": {},
   "source": [
    "## step 4: Model evaluation"
   ]
  },
  {
   "cell_type": "code",
   "execution_count": 25,
   "id": "730111b8",
   "metadata": {},
   "outputs": [
    {
     "name": "stdout",
     "output_type": "stream",
     "text": [
      "Model r2: 0.35247594665897075\n",
      "Model RMSE: 187.54594547870906\n"
     ]
    }
   ],
   "source": [
    "r2 = r2_score(y_test,y_pred)\n",
    "RMSE = mean_squared_error(y_test,y_pred,squared=False)\n",
    "print(f\"Model r2: {r2}\")\n",
    "print(f\"Model RMSE: {RMSE}\")"
   ]
  },
  {
   "cell_type": "code",
   "execution_count": 26,
   "id": "3d353328",
   "metadata": {},
   "outputs": [
    {
     "data": {
      "text/html": [
       "<div>\n",
       "<style scoped>\n",
       "    .dataframe tbody tr th:only-of-type {\n",
       "        vertical-align: middle;\n",
       "    }\n",
       "\n",
       "    .dataframe tbody tr th {\n",
       "        vertical-align: top;\n",
       "    }\n",
       "\n",
       "    .dataframe thead th {\n",
       "        text-align: right;\n",
       "    }\n",
       "</style>\n",
       "<table border=\"1\" class=\"dataframe\">\n",
       "  <thead>\n",
       "    <tr style=\"text-align: right;\">\n",
       "      <th></th>\n",
       "      <th>lat</th>\n",
       "      <th>lon</th>\n",
       "      <th>postcode_id</th>\n",
       "      <th>balcony</th>\n",
       "      <th>builtin_kitchen</th>\n",
       "      <th>energy_certificate</th>\n",
       "      <th>has_new_flag</th>\n",
       "      <th>living_space</th>\n",
       "      <th>number_rooms</th>\n",
       "      <th>private_offer</th>\n",
       "      <th>garden</th>\n",
       "    </tr>\n",
       "  </thead>\n",
       "  <tbody>\n",
       "    <tr>\n",
       "      <th>545</th>\n",
       "      <td>52.52372</td>\n",
       "      <td>13.40352</td>\n",
       "      <td>10178</td>\n",
       "      <td>True</td>\n",
       "      <td>True</td>\n",
       "      <td>False</td>\n",
       "      <td>True</td>\n",
       "      <td>76.0</td>\n",
       "      <td>2.0</td>\n",
       "      <td>True</td>\n",
       "      <td>False</td>\n",
       "    </tr>\n",
       "    <tr>\n",
       "      <th>934</th>\n",
       "      <td>52.50370</td>\n",
       "      <td>13.38351</td>\n",
       "      <td>10963</td>\n",
       "      <td>False</td>\n",
       "      <td>False</td>\n",
       "      <td>True</td>\n",
       "      <td>True</td>\n",
       "      <td>53.3</td>\n",
       "      <td>2.0</td>\n",
       "      <td>False</td>\n",
       "      <td>False</td>\n",
       "    </tr>\n",
       "  </tbody>\n",
       "</table>\n",
       "</div>"
      ],
      "text/plain": [
       "          lat       lon postcode_id  balcony  builtin_kitchen  \\\n",
       "545  52.52372  13.40352       10178     True             True   \n",
       "934  52.50370  13.38351       10963    False            False   \n",
       "\n",
       "     energy_certificate  has_new_flag  living_space  number_rooms  \\\n",
       "545               False          True          76.0           2.0   \n",
       "934                True          True          53.3           2.0   \n",
       "\n",
       "     private_offer  garden  \n",
       "545           True   False  \n",
       "934          False   False  "
      ]
     },
     "execution_count": 26,
     "metadata": {},
     "output_type": "execute_result"
    }
   ],
   "source": [
    "X_test[:2]"
   ]
  },
  {
   "cell_type": "code",
   "execution_count": 27,
   "id": "7b867170",
   "metadata": {},
   "outputs": [
    {
     "data": {
      "text/plain": [
       "array([1073.17953005,  761.57484132])"
      ]
     },
     "execution_count": 27,
     "metadata": {},
     "output_type": "execute_result"
    }
   ],
   "source": [
    "rfr.predict(X_test[:2])"
   ]
  },
  {
   "cell_type": "markdown",
   "id": "efa5e4a1",
   "metadata": {},
   "source": [
    "## step 4.1: Retry with other features"
   ]
  },
  {
   "cell_type": "code",
   "execution_count": 28,
   "id": "8041013d",
   "metadata": {},
   "outputs": [
    {
     "name": "stdout",
     "output_type": "stream",
     "text": [
      "Model r2: 0.22463866678626976\n",
      "Model RMSE: 205.2257239966424\n"
     ]
    }
   ],
   "source": [
    "X = df[['postcode_id','builtin_kitchen','living_space']]\n",
    "y = df['warm_price']\n",
    "\n",
    "X_train, X_test, y_train, y_test = train_test_split(X, y, test_size=0.2, random_state=SEED)\n",
    "rfr.fit(X_train,y_train)\n",
    "y_pred = rfr.predict(X_test)\n",
    "r2 = r2_score(y_test,y_pred)\n",
    "RMSE = mean_squared_error(y_test,y_pred,squared=False)\n",
    "print(f\"Model r2: {r2}\")\n",
    "print(f\"Model RMSE: {RMSE}\")"
   ]
  },
  {
   "cell_type": "markdown",
   "id": "15af156c",
   "metadata": {},
   "source": [
    "Looks like the feature trim down doesn't yield the desired metrics."
   ]
  },
  {
   "cell_type": "code",
   "execution_count": 29,
   "id": "17895272",
   "metadata": {},
   "outputs": [
    {
     "data": {
      "text/html": [
       "<div>\n",
       "<style scoped>\n",
       "    .dataframe tbody tr th:only-of-type {\n",
       "        vertical-align: middle;\n",
       "    }\n",
       "\n",
       "    .dataframe tbody tr th {\n",
       "        vertical-align: top;\n",
       "    }\n",
       "\n",
       "    .dataframe thead th {\n",
       "        text-align: right;\n",
       "    }\n",
       "</style>\n",
       "<table border=\"1\" class=\"dataframe\">\n",
       "  <thead>\n",
       "    <tr style=\"text-align: right;\">\n",
       "      <th></th>\n",
       "      <th>postcode_id</th>\n",
       "      <th>builtin_kitchen</th>\n",
       "      <th>living_space</th>\n",
       "    </tr>\n",
       "  </thead>\n",
       "  <tbody>\n",
       "    <tr>\n",
       "      <th>545</th>\n",
       "      <td>10178</td>\n",
       "      <td>True</td>\n",
       "      <td>76.0</td>\n",
       "    </tr>\n",
       "    <tr>\n",
       "      <th>934</th>\n",
       "      <td>10963</td>\n",
       "      <td>False</td>\n",
       "      <td>53.3</td>\n",
       "    </tr>\n",
       "  </tbody>\n",
       "</table>\n",
       "</div>"
      ],
      "text/plain": [
       "    postcode_id  builtin_kitchen  living_space\n",
       "545       10178             True          76.0\n",
       "934       10963            False          53.3"
      ]
     },
     "execution_count": 29,
     "metadata": {},
     "output_type": "execute_result"
    }
   ],
   "source": [
    "X_test[:2]"
   ]
  },
  {
   "cell_type": "code",
   "execution_count": 30,
   "id": "bdc2f534",
   "metadata": {},
   "outputs": [
    {
     "data": {
      "text/plain": [
       "array([1083.42759517,  794.75869924])"
      ]
     },
     "execution_count": 30,
     "metadata": {},
     "output_type": "execute_result"
    }
   ],
   "source": [
    "rfr.predict(X_test[:2])"
   ]
  },
  {
   "cell_type": "markdown",
   "id": "4bcc067b",
   "metadata": {},
   "source": [
    "## step 4.2: Retry with other model - distillation from DecisionTreeModel"
   ]
  },
  {
   "cell_type": "code",
   "execution_count": 31,
   "id": "5163f24b",
   "metadata": {},
   "outputs": [],
   "source": [
    "from sklearn.tree import DecisionTreeRegressor"
   ]
  },
  {
   "cell_type": "code",
   "execution_count": 32,
   "id": "1199462b",
   "metadata": {},
   "outputs": [
    {
     "name": "stdout",
     "output_type": "stream",
     "text": [
      "Model r2: 0.22463866678626976\n",
      "Model RMSE: 205.2257239966424\n"
     ]
    }
   ],
   "source": [
    "X = df[final_features]\n",
    "y = df['warm_price']\n",
    "X_train, X_test, y_train, y_test = train_test_split(X, y, test_size=0.2, random_state=SEED)\n",
    "\n",
    "rfr = RandomForestRegressor(max_depth=16, \n",
    "                           n_estimators=700, \n",
    "                           max_features='log2', \n",
    "                           random_state=SEED) \n",
    "\n",
    "dtr = DecisionTreeRegressor(max_depth=10, \n",
    "                           max_features='log2',\n",
    "                           min_samples_leaf=1,\n",
    "                           random_state=SEED,)\n",
    "\n",
    "distilled_y = dtr.fit(X_train,y_train).predict(X_train)\n",
    "rfr.fit(X_train, distilled_y)\n",
    "r2 = r2_score(y_test,y_pred)\n",
    "RMSE = mean_squared_error(y_test,y_pred,squared=False)\n",
    "print(f\"Model r2: {r2}\")\n",
    "print(f\"Model RMSE: {RMSE}\")"
   ]
  },
  {
   "cell_type": "markdown",
   "id": "00d0a8c2",
   "metadata": {},
   "source": [
    "Looks like teacher-student model again doesn't yield the desired metrics."
   ]
  },
  {
   "cell_type": "code",
   "execution_count": 33,
   "id": "2a08a2fe",
   "metadata": {},
   "outputs": [
    {
     "data": {
      "text/html": [
       "<div>\n",
       "<style scoped>\n",
       "    .dataframe tbody tr th:only-of-type {\n",
       "        vertical-align: middle;\n",
       "    }\n",
       "\n",
       "    .dataframe tbody tr th {\n",
       "        vertical-align: top;\n",
       "    }\n",
       "\n",
       "    .dataframe thead th {\n",
       "        text-align: right;\n",
       "    }\n",
       "</style>\n",
       "<table border=\"1\" class=\"dataframe\">\n",
       "  <thead>\n",
       "    <tr style=\"text-align: right;\">\n",
       "      <th></th>\n",
       "      <th>lat</th>\n",
       "      <th>lon</th>\n",
       "      <th>postcode_id</th>\n",
       "      <th>balcony</th>\n",
       "      <th>builtin_kitchen</th>\n",
       "      <th>energy_certificate</th>\n",
       "      <th>has_new_flag</th>\n",
       "      <th>living_space</th>\n",
       "      <th>number_rooms</th>\n",
       "      <th>private_offer</th>\n",
       "      <th>garden</th>\n",
       "    </tr>\n",
       "  </thead>\n",
       "  <tbody>\n",
       "    <tr>\n",
       "      <th>545</th>\n",
       "      <td>52.52372</td>\n",
       "      <td>13.40352</td>\n",
       "      <td>10178</td>\n",
       "      <td>True</td>\n",
       "      <td>True</td>\n",
       "      <td>False</td>\n",
       "      <td>True</td>\n",
       "      <td>76.0</td>\n",
       "      <td>2.0</td>\n",
       "      <td>True</td>\n",
       "      <td>False</td>\n",
       "    </tr>\n",
       "    <tr>\n",
       "      <th>934</th>\n",
       "      <td>52.50370</td>\n",
       "      <td>13.38351</td>\n",
       "      <td>10963</td>\n",
       "      <td>False</td>\n",
       "      <td>False</td>\n",
       "      <td>True</td>\n",
       "      <td>True</td>\n",
       "      <td>53.3</td>\n",
       "      <td>2.0</td>\n",
       "      <td>False</td>\n",
       "      <td>False</td>\n",
       "    </tr>\n",
       "  </tbody>\n",
       "</table>\n",
       "</div>"
      ],
      "text/plain": [
       "          lat       lon postcode_id  balcony  builtin_kitchen  \\\n",
       "545  52.52372  13.40352       10178     True             True   \n",
       "934  52.50370  13.38351       10963    False            False   \n",
       "\n",
       "     energy_certificate  has_new_flag  living_space  number_rooms  \\\n",
       "545               False          True          76.0           2.0   \n",
       "934                True          True          53.3           2.0   \n",
       "\n",
       "     private_offer  garden  \n",
       "545           True   False  \n",
       "934          False   False  "
      ]
     },
     "execution_count": 33,
     "metadata": {},
     "output_type": "execute_result"
    }
   ],
   "source": [
    "X_test[:2]"
   ]
  },
  {
   "cell_type": "code",
   "execution_count": 34,
   "id": "1b8f01b0",
   "metadata": {},
   "outputs": [
    {
     "data": {
      "text/plain": [
       "array([1078.71576488,  836.69559924])"
      ]
     },
     "execution_count": 34,
     "metadata": {},
     "output_type": "execute_result"
    }
   ],
   "source": [
    "rfr.predict(X_test[:2])"
   ]
  },
  {
   "cell_type": "markdown",
   "id": "b6e2b72c",
   "metadata": {},
   "source": [
    "## step 4.3: Retry with other model - DNN - still on the to do list"
   ]
  },
  {
   "cell_type": "code",
   "execution_count": 35,
   "id": "a6c99532",
   "metadata": {},
   "outputs": [],
   "source": [
    "# from keras.models import Sequential\n",
    "# from keras.layers import Dense"
   ]
  },
  {
   "cell_type": "markdown",
   "id": "402f24a1",
   "metadata": {},
   "source": [
    "## step 5: Serve the model using FastAPI - done in main.py"
   ]
  },
  {
   "cell_type": "markdown",
   "id": "14413943",
   "metadata": {},
   "source": [
    "At the end, I decided to go with easy model with minimal 3 features i.e. PLZ, flat size, and if flat has EKB or not, so that my FastAPI experiment wouldn't be too troublesome."
   ]
  },
  {
   "cell_type": "code",
   "execution_count": 39,
   "id": "38f2154f",
   "metadata": {},
   "outputs": [],
   "source": [
    "import pickle\n",
    "\n",
    "X = df[['postcode_id','builtin_kitchen','living_space']]\n",
    "y = df['warm_price']\n",
    "\n",
    "X_train, X_test, y_train, y_test = train_test_split(X, y, test_size=0.2, random_state=SEED)\n",
    "rfr.fit(X_train,y_train)\n",
    "\n",
    "filename = './app/trained_model.pkl'\n",
    "pickle.dump(rfr, open(filename, 'wb'))"
   ]
  },
  {
   "cell_type": "markdown",
   "id": "7c03b49b",
   "metadata": {},
   "source": [
    "## step 6: Deploy model to Heroku - still on the to do list"
   ]
  },
  {
   "cell_type": "markdown",
   "id": "b8ff2f5c",
   "metadata": {},
   "source": []
  }
 ],
 "metadata": {
  "kernelspec": {
   "display_name": "Python 3",
   "language": "python",
   "name": "python3"
  },
  "language_info": {
   "codemirror_mode": {
    "name": "ipython",
    "version": 3
   },
   "file_extension": ".py",
   "mimetype": "text/x-python",
   "name": "python",
   "nbconvert_exporter": "python",
   "pygments_lexer": "ipython3",
   "version": "3.9.6"
  },
  "vscode": {
   "interpreter": {
    "hash": "31f2aee4e71d21fbe5cf8b01ff0e069b9275f58929596ceb00d14d90e3e16cd6"
   }
  }
 },
 "nbformat": 4,
 "nbformat_minor": 5
}
